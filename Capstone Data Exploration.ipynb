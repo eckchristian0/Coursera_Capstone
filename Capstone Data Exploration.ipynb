{
    "cells": [
        {
            "cell_type": "code",
            "execution_count": 1,
            "metadata": {
                "scrolled": true
            },
            "outputs": [
                {
                    "name": "stderr",
                    "output_type": "stream",
                    "text": "/opt/conda/envs/Python36/lib/python3.6/site-packages/IPython/core/interactiveshell.py:3020: DtypeWarning: Columns (33) have mixed types. Specify dtype option on import or set low_memory=False.\n  interactivity=interactivity, compiler=compiler, result=result)\n"
                },
                {
                    "data": {
                        "text/html": "<div>\n<style scoped>\n    .dataframe tbody tr th:only-of-type {\n        vertical-align: middle;\n    }\n\n    .dataframe tbody tr th {\n        vertical-align: top;\n    }\n\n    .dataframe thead th {\n        text-align: right;\n    }\n</style>\n<table border=\"1\" class=\"dataframe\">\n  <thead>\n    <tr style=\"text-align: right;\">\n      <th></th>\n      <th>SEVERITYCODE</th>\n      <th>X</th>\n      <th>Y</th>\n      <th>OBJECTID</th>\n      <th>INCKEY</th>\n      <th>COLDETKEY</th>\n      <th>REPORTNO</th>\n      <th>STATUS</th>\n      <th>ADDRTYPE</th>\n      <th>INTKEY</th>\n      <th>...</th>\n      <th>ROADCOND</th>\n      <th>LIGHTCOND</th>\n      <th>PEDROWNOTGRNT</th>\n      <th>SDOTCOLNUM</th>\n      <th>SPEEDING</th>\n      <th>ST_COLCODE</th>\n      <th>ST_COLDESC</th>\n      <th>SEGLANEKEY</th>\n      <th>CROSSWALKKEY</th>\n      <th>HITPARKEDCAR</th>\n    </tr>\n  </thead>\n  <tbody>\n    <tr>\n      <th>0</th>\n      <td>2</td>\n      <td>-122.323148</td>\n      <td>47.703140</td>\n      <td>1</td>\n      <td>1307</td>\n      <td>1307</td>\n      <td>3502005</td>\n      <td>Matched</td>\n      <td>Intersection</td>\n      <td>37475.0</td>\n      <td>...</td>\n      <td>Wet</td>\n      <td>Daylight</td>\n      <td>NaN</td>\n      <td>NaN</td>\n      <td>NaN</td>\n      <td>10</td>\n      <td>Entering at angle</td>\n      <td>0</td>\n      <td>0</td>\n      <td>N</td>\n    </tr>\n    <tr>\n      <th>1</th>\n      <td>1</td>\n      <td>-122.347294</td>\n      <td>47.647172</td>\n      <td>2</td>\n      <td>52200</td>\n      <td>52200</td>\n      <td>2607959</td>\n      <td>Matched</td>\n      <td>Block</td>\n      <td>NaN</td>\n      <td>...</td>\n      <td>Wet</td>\n      <td>Dark - Street Lights On</td>\n      <td>NaN</td>\n      <td>6354039.0</td>\n      <td>NaN</td>\n      <td>11</td>\n      <td>From same direction - both going straight - bo...</td>\n      <td>0</td>\n      <td>0</td>\n      <td>N</td>\n    </tr>\n    <tr>\n      <th>2</th>\n      <td>1</td>\n      <td>-122.334540</td>\n      <td>47.607871</td>\n      <td>3</td>\n      <td>26700</td>\n      <td>26700</td>\n      <td>1482393</td>\n      <td>Matched</td>\n      <td>Block</td>\n      <td>NaN</td>\n      <td>...</td>\n      <td>Dry</td>\n      <td>Daylight</td>\n      <td>NaN</td>\n      <td>4323031.0</td>\n      <td>NaN</td>\n      <td>32</td>\n      <td>One parked--one moving</td>\n      <td>0</td>\n      <td>0</td>\n      <td>N</td>\n    </tr>\n    <tr>\n      <th>3</th>\n      <td>1</td>\n      <td>-122.334803</td>\n      <td>47.604803</td>\n      <td>4</td>\n      <td>1144</td>\n      <td>1144</td>\n      <td>3503937</td>\n      <td>Matched</td>\n      <td>Block</td>\n      <td>NaN</td>\n      <td>...</td>\n      <td>Dry</td>\n      <td>Daylight</td>\n      <td>NaN</td>\n      <td>NaN</td>\n      <td>NaN</td>\n      <td>23</td>\n      <td>From same direction - all others</td>\n      <td>0</td>\n      <td>0</td>\n      <td>N</td>\n    </tr>\n    <tr>\n      <th>4</th>\n      <td>2</td>\n      <td>-122.306426</td>\n      <td>47.545739</td>\n      <td>5</td>\n      <td>17700</td>\n      <td>17700</td>\n      <td>1807429</td>\n      <td>Matched</td>\n      <td>Intersection</td>\n      <td>34387.0</td>\n      <td>...</td>\n      <td>Wet</td>\n      <td>Daylight</td>\n      <td>NaN</td>\n      <td>4028032.0</td>\n      <td>NaN</td>\n      <td>10</td>\n      <td>Entering at angle</td>\n      <td>0</td>\n      <td>0</td>\n      <td>N</td>\n    </tr>\n  </tbody>\n</table>\n<p>5 rows \u00d7 38 columns</p>\n</div>",
                        "text/plain": "   SEVERITYCODE           X          Y  OBJECTID  INCKEY  COLDETKEY REPORTNO  \\\n0             2 -122.323148  47.703140         1    1307       1307  3502005   \n1             1 -122.347294  47.647172         2   52200      52200  2607959   \n2             1 -122.334540  47.607871         3   26700      26700  1482393   \n3             1 -122.334803  47.604803         4    1144       1144  3503937   \n4             2 -122.306426  47.545739         5   17700      17700  1807429   \n\n    STATUS      ADDRTYPE   INTKEY  ... ROADCOND                LIGHTCOND  \\\n0  Matched  Intersection  37475.0  ...      Wet                 Daylight   \n1  Matched         Block      NaN  ...      Wet  Dark - Street Lights On   \n2  Matched         Block      NaN  ...      Dry                 Daylight   \n3  Matched         Block      NaN  ...      Dry                 Daylight   \n4  Matched  Intersection  34387.0  ...      Wet                 Daylight   \n\n  PEDROWNOTGRNT  SDOTCOLNUM SPEEDING ST_COLCODE  \\\n0           NaN         NaN      NaN         10   \n1           NaN   6354039.0      NaN         11   \n2           NaN   4323031.0      NaN         32   \n3           NaN         NaN      NaN         23   \n4           NaN   4028032.0      NaN         10   \n\n                                          ST_COLDESC  SEGLANEKEY  \\\n0                                  Entering at angle           0   \n1  From same direction - both going straight - bo...           0   \n2                             One parked--one moving           0   \n3                   From same direction - all others           0   \n4                                  Entering at angle           0   \n\n   CROSSWALKKEY  HITPARKEDCAR  \n0             0             N  \n1             0             N  \n2             0             N  \n3             0             N  \n4             0             N  \n\n[5 rows x 38 columns]"
                    },
                    "execution_count": 1,
                    "metadata": {},
                    "output_type": "execute_result"
                }
            ],
            "source": "# The code was removed by Watson Studio for sharing."
        },
        {
            "cell_type": "code",
            "execution_count": 43,
            "metadata": {},
            "outputs": [
                {
                    "name": "stdout",
                    "output_type": "stream",
                    "text": "Total Accidents: 194673\nTotal Serious Injuries: 58188, or 29.89% of the total number of accidents resulted in serious injuries\nTotal Bike Accidents: 5527, or 2.84% of the total number of accidents\nTotal Bike Serious Injuries: 4805, or 8.26% of the total number of serious injuries\n"
                }
            ],
            "source": "# total number of accidents\ntotalaccidents = len(df_og.index)\nprint(F\"Total Accidents: {totalaccidents}\")\n\n# total number of serious injuries overall\ntotal_ser_inj = 0\nfor row in range(totalaccidents):\n    if df_og['SEVERITYCODE.1'][row] >= 2:\n        total_ser_inj = total_ser_inj + 1\npercent_total_ser_inj = round(((total_ser_inj/totalaccidents)*100),2)\nprint(F\"Total Serious Injuries: {total_ser_inj}, or {percent_total_ser_inj}% of the total number of accidents resulted in serious injuries\")\n\n# total number of bikes involved in accidents\ntotalbikes = df_og['PEDCYLCOUNT'].sum()\npercent_totalbikes = round(((totalbikes/totalaccidents)*100),2)\nprint(F\"Total Bike Accidents: {totalbikes}, or {percent_totalbikes}% of the total number of accidents\")\n\n# total number of serious injuries for accidents with bikes\ntotal_bike_ser_inj = 0\nfor row in range(totalaccidents):\n    if (df_og['PEDCYLCOUNT'][row] >= 1) and ((df_og['SEVERITYCODE.1'][row]) >= 2):\n        total_bike_ser_inj = total_bike_ser_inj + 1\npercent_total_bike_ser_inj = round(((total_bike_ser_inj/total_ser_inj)*100),2)\nprint(F\"Total Bike Serious Injuries: {total_bike_ser_inj}, or {percent_total_bike_ser_inj}% of the total number of serious injuries\")"
        },
        {
            "cell_type": "code",
            "execution_count": 69,
            "metadata": {},
            "outputs": [
                {
                    "data": {
                        "text/html": "<div>\n<style scoped>\n    .dataframe tbody tr th:only-of-type {\n        vertical-align: middle;\n    }\n\n    .dataframe tbody tr th {\n        vertical-align: top;\n    }\n\n    .dataframe thead th {\n        text-align: right;\n    }\n</style>\n<table border=\"1\" class=\"dataframe\">\n  <thead>\n    <tr style=\"text-align: right;\">\n      <th></th>\n      <th>PEDCYLCOUNT</th>\n      <th>SEVERITYCODE.1</th>\n      <th>ADDRTYPE</th>\n    </tr>\n  </thead>\n  <tbody>\n    <tr>\n      <th>0</th>\n      <td>0</td>\n      <td>2</td>\n      <td>Intersection</td>\n    </tr>\n    <tr>\n      <th>1</th>\n      <td>0</td>\n      <td>1</td>\n      <td>Block</td>\n    </tr>\n    <tr>\n      <th>2</th>\n      <td>0</td>\n      <td>1</td>\n      <td>Block</td>\n    </tr>\n    <tr>\n      <th>3</th>\n      <td>0</td>\n      <td>1</td>\n      <td>Block</td>\n    </tr>\n    <tr>\n      <th>4</th>\n      <td>0</td>\n      <td>2</td>\n      <td>Intersection</td>\n    </tr>\n  </tbody>\n</table>\n</div>",
                        "text/plain": "   PEDCYLCOUNT  SEVERITYCODE.1      ADDRTYPE\n0            0               2  Intersection\n1            0               1         Block\n2            0               1         Block\n3            0               1         Block\n4            0               2  Intersection"
                    },
                    "execution_count": 69,
                    "metadata": {},
                    "output_type": "execute_result"
                }
            ],
            "source": "# create a bike accident and location df\ndf_location = df_og[['PEDCYLCOUNT', 'SEVERITYCODE.1', 'ADDRTYPE']]\nlocation_len= len(df_location.index)"
        },
        {
            "cell_type": "code",
            "execution_count": 72,
            "metadata": {},
            "outputs": [
                {
                    "name": "stderr",
                    "output_type": "stream",
                    "text": "/opt/conda/envs/Python36/lib/python3.6/site-packages/ipykernel/__main__.py:3: SettingWithCopyWarning: \nA value is trying to be set on a copy of a slice from a DataFrame.\nTry using .loc[row_indexer,col_indexer] = value instead\n\nSee the caveats in the documentation: http://pandas.pydata.org/pandas-docs/stable/indexing.html#indexing-view-versus-copy\n  app.launch_new_instance()\n"
                },
                {
                    "name": "stdout",
                    "output_type": "stream",
                    "text": "Bike Accidents in the Block: 2305, or 41.7% of all bike accidents\n"
                },
                {
                    "name": "stderr",
                    "output_type": "stream",
                    "text": "/opt/conda/envs/Python36/lib/python3.6/site-packages/ipykernel/__main__.py:12: SettingWithCopyWarning: \nA value is trying to be set on a copy of a slice from a DataFrame.\nTry using .loc[row_indexer,col_indexer] = value instead\n\nSee the caveats in the documentation: http://pandas.pydata.org/pandas-docs/stable/indexing.html#indexing-view-versus-copy\n"
                },
                {
                    "name": "stdout",
                    "output_type": "stream",
                    "text": "Bike Accidents at Intersections: 3124, or 56.52% of all bike accidents\n"
                },
                {
                    "name": "stderr",
                    "output_type": "stream",
                    "text": "/opt/conda/envs/Python36/lib/python3.6/site-packages/ipykernel/__main__.py:21: SettingWithCopyWarning: \nA value is trying to be set on a copy of a slice from a DataFrame.\nTry using .loc[row_indexer,col_indexer] = value instead\n\nSee the caveats in the documentation: http://pandas.pydata.org/pandas-docs/stable/indexing.html#indexing-view-versus-copy\n"
                },
                {
                    "name": "stdout",
                    "output_type": "stream",
                    "text": "Bike Accidents in Allies: 8, or 0.14% of all bike accidents\n"
                }
            ],
            "source": "# Bike Accidents at Blocks\nblock_accident=0\ndf_location['Block'] = df_og['ADDRTYPE'].str.contains(\"Block\")\nfor row in range(location_len):\n    if (df_location.loc[row,'Block'] == True) and (df_location.loc[row,'PEDCYLCOUNT']==1):\n        block_accident = block_accident + 1 \npercent_bike_block = round(((block_accident/totalbikes)*100),2)\nprint(F\"Bike Accidents in the Block: {block_accident}, or {percent_bike_block}% of all bike accidents\")\n\n# Bike Accidents at Intersections\ninter_accident = 0\ndf_location['Intersection'] = df_og['ADDRTYPE'].str.contains(\"Intersection\")\nfor row in range(location_len):\n    if (df_location['Intersection'][row] == True) and (df_location.loc[row,'PEDCYLCOUNT']==1):\n        inter_accident = inter_accident + 1\npercent_bike_inter = round(((inter_accident/totalbikes)*100),2)\nprint(F\"Bike Accidents at Intersections: {inter_accident}, or {percent_bike_inter}% of all bike accidents\")\n        \n# Bike Accidents at Intersections\nalley_accident = 0\ndf_location['Alley'] = df_og['ADDRTYPE'].str.contains(\"Alley\")\nfor row in range(location_len):\n    if (df_location['Alley'][row] == True) and (df_location.loc[row,'PEDCYLCOUNT']==1):\n        alley_accident = alley_accident + 1\npercent_bike_alley = round(((alley_accident/totalbikes)*100),2)\nprint(F\"Bike Accidents in Allies: {alley_accident}, or {percent_bike_alley}% of all bike accidents\")"
        },
        {
            "cell_type": "code",
            "execution_count": 82,
            "metadata": {},
            "outputs": [],
            "source": "# create a bike accident and roadcond df\ndf_roadcond = df_og[['PEDCYLCOUNT', 'SEVERITYCODE.1', 'ROADCOND']]\nroadcond_len= len(df_roadcond.index)"
        },
        {
            "cell_type": "code",
            "execution_count": 85,
            "metadata": {},
            "outputs": [
                {
                    "name": "stderr",
                    "output_type": "stream",
                    "text": "/opt/conda/envs/Python36/lib/python3.6/site-packages/ipykernel/__main__.py:3: SettingWithCopyWarning: \nA value is trying to be set on a copy of a slice from a DataFrame.\nTry using .loc[row_indexer,col_indexer] = value instead\n\nSee the caveats in the documentation: http://pandas.pydata.org/pandas-docs/stable/indexing.html#indexing-view-versus-copy\n  app.launch_new_instance()\n"
                },
                {
                    "name": "stdout",
                    "output_type": "stream",
                    "text": "Bike Accidents on Dry Roads: 4364, or 78.96% of all bike accidents\n"
                },
                {
                    "name": "stderr",
                    "output_type": "stream",
                    "text": "/opt/conda/envs/Python36/lib/python3.6/site-packages/ipykernel/__main__.py:12: SettingWithCopyWarning: \nA value is trying to be set on a copy of a slice from a DataFrame.\nTry using .loc[row_indexer,col_indexer] = value instead\n\nSee the caveats in the documentation: http://pandas.pydata.org/pandas-docs/stable/indexing.html#indexing-view-versus-copy\n"
                },
                {
                    "name": "stdout",
                    "output_type": "stream",
                    "text": "Bike Accidents on Wet Roads: 931, or 16.84% of all bike accidents\n"
                },
                {
                    "name": "stderr",
                    "output_type": "stream",
                    "text": "/opt/conda/envs/Python36/lib/python3.6/site-packages/ipykernel/__main__.py:21: SettingWithCopyWarning: \nA value is trying to be set on a copy of a slice from a DataFrame.\nTry using .loc[row_indexer,col_indexer] = value instead\n\nSee the caveats in the documentation: http://pandas.pydata.org/pandas-docs/stable/indexing.html#indexing-view-versus-copy\n"
                },
                {
                    "name": "stdout",
                    "output_type": "stream",
                    "text": "Bike Accidents on Dry Roads: 3858, or 80.29% of bike accidents with serious injuries\n"
                },
                {
                    "name": "stderr",
                    "output_type": "stream",
                    "text": "/opt/conda/envs/Python36/lib/python3.6/site-packages/ipykernel/__main__.py:30: SettingWithCopyWarning: \nA value is trying to be set on a copy of a slice from a DataFrame.\nTry using .loc[row_indexer,col_indexer] = value instead\n\nSee the caveats in the documentation: http://pandas.pydata.org/pandas-docs/stable/indexing.html#indexing-view-versus-copy\n"
                },
                {
                    "name": "stdout",
                    "output_type": "stream",
                    "text": "Bike Accidents on Wet Roads: 806, or 16.77% of bike accidents with serious injuries\n"
                }
            ],
            "source": "# Bike Accidents on Dry Roads\ndry_accident=0\ndf_roadcond['Dry'] = df_roadcond['ROADCOND'].str.contains(\"Dry\")\nfor row in range(location_len):\n    if (df_roadcond.loc[row,'Dry'] == True) and (df_roadcond.loc[row,'PEDCYLCOUNT']==1):\n        dry_accident = dry_accident + 1 \npercent_bike_dry = round(((dry_accident/totalbikes)*100),2)\nprint(F\"Bike Accidents on Dry Roads: {dry_accident}, or {percent_bike_dry}% of all bike accidents\")\n\n# Bike Accidents on Wet Roads\nwet_accident=0\ndf_roadcond['Wet'] = df_roadcond['ROADCOND'].str.contains(\"Wet\")\nfor row in range(location_len):\n    if (df_roadcond.loc[row,'Wet'] == True) and (df_roadcond.loc[row,'PEDCYLCOUNT']==1):\n        wet_accident = wet_accident + 1 \npercent_bike_wet = round(((wet_accident/totalbikes)*100),2)\nprint(F\"Bike Accidents on Wet Roads: {wet_accident}, or {percent_bike_wet}% of all bike accidents\")\n\n# Bike Serious Injury Accidents on Dry Roads\nserinj_dry_accident=0\ndf_roadcond['Dry'] = df_roadcond['ROADCOND'].str.contains(\"Dry\")\nfor row in range(location_len):\n    if (df_roadcond.loc[row,'Dry'] == True) and (df_roadcond.loc[row,'PEDCYLCOUNT']==1) and (df_roadcond.loc[row,'SEVERITYCODE.1'] >= 2):\n        serinj_dry_accident = serinj_dry_accident + 1 \nserinj_percent_bike_dry = round(((serinj_dry_accident/total_bike_ser_inj)*100),2)\nprint(F\"Bike Accidents on Dry Roads with Serious Injuries: {serinj_dry_accident}, or {serinj_percent_bike_dry}% of bike accidents with serious injuries\")\n\n# Bike Serious Injury Accidents on Wet Roads\nserinj_wet_accident=0\ndf_roadcond['Wet'] = df_roadcond['ROADCOND'].str.contains(\"Wet\")\nfor row in range(location_len):\n    if (df_roadcond.loc[row,'Wet'] == True) and (df_roadcond.loc[row,'PEDCYLCOUNT']==1) and (df_roadcond.loc[row,'SEVERITYCODE.1'] >= 2):\n        serinj_wet_accident = serinj_wet_accident + 1 \nserinj_percent_bike_wet = round(((serinj_wet_accident/total_bike_ser_inj)*100),2)\nprint(F\"Bike Accidents on Wet Roads with Serious Injuries: {serinj_wet_accident}, or {serinj_percent_bike_wet}% of bike accidents with serious injuries\")"
        },
        {
            "cell_type": "code",
            "execution_count": null,
            "metadata": {},
            "outputs": [],
            "source": ""
        }
    ],
    "metadata": {
        "kernelspec": {
            "display_name": "Python 3.6",
            "language": "python",
            "name": "python3"
        },
        "language_info": {
            "codemirror_mode": {
                "name": "ipython",
                "version": 3
            },
            "file_extension": ".py",
            "mimetype": "text/x-python",
            "name": "python",
            "nbconvert_exporter": "python",
            "pygments_lexer": "ipython3",
            "version": "3.6.9"
        }
    },
    "nbformat": 4,
    "nbformat_minor": 1
}